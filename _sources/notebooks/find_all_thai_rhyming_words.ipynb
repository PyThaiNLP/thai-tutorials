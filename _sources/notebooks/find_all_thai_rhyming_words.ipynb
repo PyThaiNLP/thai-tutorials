{
  "cells": [
    {
      "cell_type": "markdown",
      "metadata": {
        "id": "K9ODYQZM4GAN"
      },
      "source": [
        "# ค้นหาคำที่มีเสียงคล้องจองภาษาไทยด้วย PyThaiNLP\n",
        "\n",
        "PyThaiNLP เราได้จัดทำฟังก์ชันสำหรับหาคำที่มีเสียงคล้องจองในพจนานุกรมภาษาไทย"
      ]
    },
    {
      "cell_type": "code",
      "execution_count": 15,
      "metadata": {
        "colab": {
          "base_uri": "https://localhost:8080/"
        },
        "id": "s3hYEQjP2J_e",
        "outputId": "74d31fda-c63e-4512-d127-fd65c22c36a3"
      },
      "outputs": [
        {
          "name": "stdout",
          "output_type": "stream",
          "text": [
            "Requirement already satisfied: pythainlp in /usr/local/lib/python3.10/dist-packages (4.1.0b4)\n",
            "Requirement already satisfied: requests>=2.22.0 in /usr/local/lib/python3.10/dist-packages (from pythainlp) (2.31.0)\n",
            "Requirement already satisfied: charset-normalizer<4,>=2 in /usr/local/lib/python3.10/dist-packages (from requests>=2.22.0->pythainlp) (3.2.0)\n",
            "Requirement already satisfied: idna<4,>=2.5 in /usr/local/lib/python3.10/dist-packages (from requests>=2.22.0->pythainlp) (3.4)\n",
            "Requirement already satisfied: urllib3<3,>=1.21.1 in /usr/local/lib/python3.10/dist-packages (from requests>=2.22.0->pythainlp) (2.0.4)\n",
            "Requirement already satisfied: certifi>=2017.4.17 in /usr/local/lib/python3.10/dist-packages (from requests>=2.22.0->pythainlp) (2023.7.22)\n",
            "Collecting python-crfsuite\n",
            "  Downloading python_crfsuite-0.9.9-cp310-cp310-manylinux_2_17_x86_64.manylinux2014_x86_64.whl (993 kB)\n",
            "\u001b[2K     \u001b[90m━━━━━━━━━━━━━━━━━━━━━━━━━━━━━━━━━━━━━━━\u001b[0m \u001b[32m993.5/993.5 kB\u001b[0m \u001b[31m6.6 MB/s\u001b[0m eta \u001b[36m0:00:00\u001b[0m\n",
            "\u001b[?25hInstalling collected packages: python-crfsuite\n",
            "Successfully installed python-crfsuite-0.9.9\n"
          ]
        }
      ],
      "source": [
        "!pip install --pre pythainlp\n",
        "!pip install python-crfsuite"
      ]
    },
    {
      "cell_type": "code",
      "execution_count": 16,
      "metadata": {
        "id": "-RnAwSB62Nd9"
      },
      "outputs": [],
      "source": [
        "from pythainlp.corpus import thai_words\n",
        "from pythainlp.tokenize import syllable_tokenize"
      ]
    },
    {
      "cell_type": "code",
      "execution_count": 17,
      "metadata": {
        "id": "KJpJyT-T2RsT"
      },
      "outputs": [],
      "source": [
        "all_thai_words_dict = [i for i in list(thai_words()) if len(syllable_tokenize(i))==1]"
      ]
    },
    {
      "cell_type": "code",
      "execution_count": 18,
      "metadata": {
        "id": "2eBgB7KI2d_v"
      },
      "outputs": [],
      "source": [
        "from pythainlp.khavee import KhaveeVerifier\n",
        "kv = KhaveeVerifier()"
      ]
    },
    {
      "cell_type": "code",
      "execution_count": 19,
      "metadata": {
        "colab": {
          "base_uri": "https://localhost:8080/",
          "height": 35
        },
        "id": "R2NSwqxT25vh",
        "outputId": "570f4407-4741-42e9-8f07-e322189df2ab"
      },
      "outputs": [
        {
          "data": {
            "application/vnd.google.colaboratory.intrinsic+json": {
              "type": "string"
            },
            "text/plain": [
              "'เทอญ'"
            ]
          },
          "execution_count": 19,
          "metadata": {},
          "output_type": "execute_result"
        }
      ],
      "source": [
        "all_thai_words_dict[0]"
      ]
    },
    {
      "cell_type": "code",
      "execution_count": 21,
      "metadata": {
        "colab": {
          "base_uri": "https://localhost:8080/"
        },
        "id": "uu3fCa8Z2lGR",
        "outputId": "53dd7ed0-e9c6-487f-c9e2-f1159ac31e27"
      },
      "outputs": [
        {
          "name": "stdout",
          "output_type": "stream",
          "text": [
            "['กลีบ', 'อีฟ', 'ถีบ', 'รีฟ', 'ตีบ', 'ชีพ', 'หลีบ', 'บีบ', 'ตี้บ', 'ลีบ', 'ทวีป', 'งีบ', 'หีบ', 'คีบ', 'ปี๊บ', 'หนีบ', 'รีบ', 'ทีป', 'จี๊ป', 'ปีบ', 'ครีบ', 'กีบ']\n"
          ]
        }
      ],
      "source": [
        "word=\"จีบ\" # หาคำที่มีเสียงคล้องจอง ของ คำว่า \"จีีบ\"\n",
        "list_sumpus=[]\n",
        "for i in all_thai_words_dict:\n",
        "  try:\n",
        "    if kv.is_sumpus(word,i) and i!=word:\n",
        "      list_sumpus.append(i)\n",
        "  except:\n",
        "    pass\n",
        "print(list_sumpus)"
      ]
    },
    {
      "cell_type": "code",
      "execution_count": null,
      "metadata": {
        "id": "mbqluTsh23HF"
      },
      "outputs": [],
      "source": []
    }
  ],
  "metadata": {
    "colab": {
      "provenance": []
    },
    "kernelspec": {
      "display_name": "Python 3",
      "name": "python3"
    },
    "language_info": {
      "name": "python"
    }
  },
  "nbformat": 4,
  "nbformat_minor": 0
}
